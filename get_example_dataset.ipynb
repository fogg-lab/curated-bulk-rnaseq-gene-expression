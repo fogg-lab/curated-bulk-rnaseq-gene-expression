{
  "cells": [
    {
      "cell_type": "markdown",
      "metadata": {
        "colab_type": "text",
        "id": "view-in-github"
      },
      "source": [
        "<a href=\"https://colab.research.google.com/github/fogg-lab/curated-bulk-rnaseq-gene-expression/blob/main/get_example_dataset.ipynb\" target=\"_parent\"><img src=\"https://colab.research.google.com/assets/colab-badge.svg\" alt=\"Open In Colab\"/></a>"
      ]
    },
    {
      "cell_type": "markdown",
      "metadata": {
        "id": "zyMoz411GxzQ"
      },
      "source": [
        "# Run this to get a specific dataset\n",
        "\n",
        "- Change source and project as needed\n",
        "- Run the cells\n",
        "- download two (2) processed files from the files pane"
      ]
    },
    {
      "cell_type": "code",
      "execution_count": 3,
      "metadata": {
        "id": "ygr_htgFG-Kw"
      },
      "outputs": [],
      "source": [
        "# Change source and project as needed\n",
        "SOURCE = \"GDC\"\n",
        "PROJECT = \"CGCI-HTMCP-DLBCL\""
      ]
    },
    {
      "cell_type": "code",
      "execution_count": 4,
      "metadata": {
        "colab": {
          "base_uri": "https://localhost:8080/"
        },
        "id": "DXAGw9aVGwPr",
        "outputId": "da13dc08-3ce0-4445-a93c-826e1edf8262"
      },
      "outputs": [
        {
          "name": "stdout",
          "output_type": "stream",
          "text": [
            "  % Total    % Received % Xferd  Average Speed   Time    Time     Time  Current\n",
            "                                 Dload  Upload   Total   Spent    Left  Speed\n",
            "100 1812k  100 1812k    0     0  8063k      0 --:--:-- --:--:-- --:--:-- 8091k\n",
            "  % Total    % Received % Xferd  Average Speed   Time    Time     Time  Current\n",
            "                                 Dload  Upload   Total   Spent    Left  Speed\n",
            "100 12017  100 12017    0     0   117k      0 --:--:-- --:--:-- --:--:--  118k\n",
            "  % Total    % Received % Xferd  Average Speed   Time    Time     Time  Current\n",
            "                                 Dload  Upload   Total   Spent    Left  Speed\n",
            "100  224k  100  224k    0     0  1616k      0 --:--:-- --:--:-- --:--:-- 1613k\n"
          ]
        }
      ],
      "source": [
        "import pandas as pd\n",
        "import numpy as np\n",
        "import gzip\n",
        "\n",
        "base_url = \"https://docgl1or94tw4.cloudfront.net/curated-bulk-rnaseq-gene-expression\"\n",
        "counts_url = f\"{base_url}/{SOURCE}/expression/{PROJECT}.npy.gz\"\n",
        "coldata_url = f\"{base_url}/{SOURCE}/coldata/{PROJECT}.csv.gz\"\n",
        "genes_url = f\"{base_url}/{SOURCE}/genes/{PROJECT}.csv.gz\"\n",
        "\n",
        "!curl -o \"{PROJECT}_counts.npy.gz\" {counts_url}\n",
        "!curl -o \"{PROJECT}_coldata.csv.gz\" {coldata_url}\n",
        "!curl -o \"{PROJECT}_genes.csv.gz\" {genes_url}\n",
        "\n",
        "coldata_df = pd.read_csv(f\"{PROJECT}_coldata.csv.gz\", index_col=0)\n",
        "genes_df = pd.read_csv(f\"{PROJECT}_genes.csv.gz\")\n",
        "with gzip.open(f\"{PROJECT}_counts.npy.gz\", \"rb\") as f:\n",
        "    counts_df = pd.DataFrame(\n",
        "        data = np.load(f).reshape(len(coldata_df), len(genes_df)).T,\n",
        "        index = genes_df[\"symbol\"],\n",
        "        columns = coldata_df.index,\n",
        "    )\n",
        "\n",
        "coldata_df.to_csv(f\"processed_coldata\")\n",
        "\n",
        "counts_df.to_csv(f\"{PROJECT}_processed_counts.csv\")\n",
        "coldata_df.to_csv(f\"{PROJECT}_processed_coldata.csv\")"
      ]
    },
    {
      "cell_type": "code",
      "execution_count": null,
      "metadata": {
        "id": "mOYKxv6rHO2N"
      },
      "outputs": [],
      "source": []
    }
  ],
  "metadata": {
    "colab": {
      "authorship_tag": "ABX9TyOHmmps9iqM+Z0iNgx9U2h0",
      "include_colab_link": true,
      "provenance": []
    },
    "kernelspec": {
      "display_name": "Python 3",
      "name": "python3"
    },
    "language_info": {
      "name": "python"
    }
  },
  "nbformat": 4,
  "nbformat_minor": 0
}
